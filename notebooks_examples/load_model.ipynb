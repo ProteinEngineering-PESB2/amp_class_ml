{
 "cells": [
  {
   "attachments": {},
   "cell_type": "markdown",
   "metadata": {},
   "source": [
    "## Loading and using a trained model"
   ]
  },
  {
   "cell_type": "code",
   "execution_count": 1,
   "metadata": {},
   "outputs": [],
   "source": [
    "import pandas as pd\n",
    "import sys\n",
    "sys.path.insert(0, \"../\")\n",
    "from src.training_models.class_models import classification_model"
   ]
  },
  {
   "cell_type": "code",
   "execution_count": 2,
   "metadata": {},
   "outputs": [
    {
     "data": {
      "text/html": [
       "<div>\n",
       "<style scoped>\n",
       "    .dataframe tbody tr th:only-of-type {\n",
       "        vertical-align: middle;\n",
       "    }\n",
       "\n",
       "    .dataframe tbody tr th {\n",
       "        vertical-align: top;\n",
       "    }\n",
       "\n",
       "    .dataframe thead th {\n",
       "        text-align: right;\n",
       "    }\n",
       "</style>\n",
       "<table border=\"1\" class=\"dataframe\">\n",
       "  <thead>\n",
       "    <tr style=\"text-align: right;\">\n",
       "      <th></th>\n",
       "      <th>p_0</th>\n",
       "      <th>p_1</th>\n",
       "      <th>p_2</th>\n",
       "      <th>p_3</th>\n",
       "      <th>p_4</th>\n",
       "      <th>p_5</th>\n",
       "      <th>p_6</th>\n",
       "      <th>p_7</th>\n",
       "      <th>p_8</th>\n",
       "      <th>p_9</th>\n",
       "      <th>...</th>\n",
       "      <th>p_1015</th>\n",
       "      <th>p_1016</th>\n",
       "      <th>p_1017</th>\n",
       "      <th>p_1018</th>\n",
       "      <th>p_1019</th>\n",
       "      <th>p_1020</th>\n",
       "      <th>p_1021</th>\n",
       "      <th>p_1022</th>\n",
       "      <th>p_1023</th>\n",
       "      <th>activity</th>\n",
       "    </tr>\n",
       "  </thead>\n",
       "  <tbody>\n",
       "    <tr>\n",
       "      <th>0</th>\n",
       "      <td>0.142960</td>\n",
       "      <td>0.158228</td>\n",
       "      <td>-0.066922</td>\n",
       "      <td>-0.068408</td>\n",
       "      <td>0.024091</td>\n",
       "      <td>0.033668</td>\n",
       "      <td>-0.078057</td>\n",
       "      <td>-0.176272</td>\n",
       "      <td>-0.032007</td>\n",
       "      <td>0.085898</td>\n",
       "      <td>...</td>\n",
       "      <td>0.022643</td>\n",
       "      <td>0.063472</td>\n",
       "      <td>-0.174561</td>\n",
       "      <td>0.043561</td>\n",
       "      <td>-0.054865</td>\n",
       "      <td>0.020026</td>\n",
       "      <td>0.164098</td>\n",
       "      <td>0.010093</td>\n",
       "      <td>-0.020967</td>\n",
       "      <td>1</td>\n",
       "    </tr>\n",
       "    <tr>\n",
       "      <th>1</th>\n",
       "      <td>0.083491</td>\n",
       "      <td>0.007339</td>\n",
       "      <td>-0.077737</td>\n",
       "      <td>-0.112570</td>\n",
       "      <td>-0.025486</td>\n",
       "      <td>-0.005702</td>\n",
       "      <td>-0.031900</td>\n",
       "      <td>-0.022487</td>\n",
       "      <td>0.034088</td>\n",
       "      <td>-0.016875</td>\n",
       "      <td>...</td>\n",
       "      <td>-0.055981</td>\n",
       "      <td>0.048462</td>\n",
       "      <td>-0.128716</td>\n",
       "      <td>0.030585</td>\n",
       "      <td>-0.066895</td>\n",
       "      <td>-0.001391</td>\n",
       "      <td>-0.001993</td>\n",
       "      <td>-0.033620</td>\n",
       "      <td>-0.014635</td>\n",
       "      <td>1</td>\n",
       "    </tr>\n",
       "    <tr>\n",
       "      <th>2</th>\n",
       "      <td>0.181855</td>\n",
       "      <td>0.079890</td>\n",
       "      <td>-0.076981</td>\n",
       "      <td>-0.098857</td>\n",
       "      <td>0.073045</td>\n",
       "      <td>-0.011315</td>\n",
       "      <td>0.016744</td>\n",
       "      <td>-0.051390</td>\n",
       "      <td>-0.040626</td>\n",
       "      <td>0.092676</td>\n",
       "      <td>...</td>\n",
       "      <td>-0.153833</td>\n",
       "      <td>0.071620</td>\n",
       "      <td>-0.083821</td>\n",
       "      <td>-0.045900</td>\n",
       "      <td>-0.091551</td>\n",
       "      <td>-0.048034</td>\n",
       "      <td>0.058891</td>\n",
       "      <td>-0.024581</td>\n",
       "      <td>0.036298</td>\n",
       "      <td>1</td>\n",
       "    </tr>\n",
       "    <tr>\n",
       "      <th>3</th>\n",
       "      <td>0.111568</td>\n",
       "      <td>0.024803</td>\n",
       "      <td>-0.044903</td>\n",
       "      <td>-0.079695</td>\n",
       "      <td>0.029169</td>\n",
       "      <td>-0.038307</td>\n",
       "      <td>-0.040666</td>\n",
       "      <td>-0.084034</td>\n",
       "      <td>-0.056214</td>\n",
       "      <td>0.061282</td>\n",
       "      <td>...</td>\n",
       "      <td>0.021053</td>\n",
       "      <td>0.040895</td>\n",
       "      <td>-0.260085</td>\n",
       "      <td>-0.010314</td>\n",
       "      <td>-0.037793</td>\n",
       "      <td>-0.049993</td>\n",
       "      <td>0.186102</td>\n",
       "      <td>-0.022121</td>\n",
       "      <td>-0.068235</td>\n",
       "      <td>1</td>\n",
       "    </tr>\n",
       "    <tr>\n",
       "      <th>4</th>\n",
       "      <td>0.086809</td>\n",
       "      <td>0.080596</td>\n",
       "      <td>0.090596</td>\n",
       "      <td>-0.051158</td>\n",
       "      <td>-0.044917</td>\n",
       "      <td>-0.001985</td>\n",
       "      <td>0.047878</td>\n",
       "      <td>-0.240267</td>\n",
       "      <td>-0.059729</td>\n",
       "      <td>-0.112021</td>\n",
       "      <td>...</td>\n",
       "      <td>0.004984</td>\n",
       "      <td>-0.019684</td>\n",
       "      <td>-0.179706</td>\n",
       "      <td>0.013076</td>\n",
       "      <td>0.039168</td>\n",
       "      <td>-0.068407</td>\n",
       "      <td>0.087351</td>\n",
       "      <td>-0.025515</td>\n",
       "      <td>0.073880</td>\n",
       "      <td>0</td>\n",
       "    </tr>\n",
       "  </tbody>\n",
       "</table>\n",
       "<p>5 rows × 1025 columns</p>\n",
       "</div>"
      ],
      "text/plain": [
       "        p_0       p_1       p_2       p_3       p_4       p_5       p_6  \\\n",
       "0  0.142960  0.158228 -0.066922 -0.068408  0.024091  0.033668 -0.078057   \n",
       "1  0.083491  0.007339 -0.077737 -0.112570 -0.025486 -0.005702 -0.031900   \n",
       "2  0.181855  0.079890 -0.076981 -0.098857  0.073045 -0.011315  0.016744   \n",
       "3  0.111568  0.024803 -0.044903 -0.079695  0.029169 -0.038307 -0.040666   \n",
       "4  0.086809  0.080596  0.090596 -0.051158 -0.044917 -0.001985  0.047878   \n",
       "\n",
       "        p_7       p_8       p_9  ...    p_1015    p_1016    p_1017    p_1018  \\\n",
       "0 -0.176272 -0.032007  0.085898  ...  0.022643  0.063472 -0.174561  0.043561   \n",
       "1 -0.022487  0.034088 -0.016875  ... -0.055981  0.048462 -0.128716  0.030585   \n",
       "2 -0.051390 -0.040626  0.092676  ... -0.153833  0.071620 -0.083821 -0.045900   \n",
       "3 -0.084034 -0.056214  0.061282  ...  0.021053  0.040895 -0.260085 -0.010314   \n",
       "4 -0.240267 -0.059729 -0.112021  ...  0.004984 -0.019684 -0.179706  0.013076   \n",
       "\n",
       "     p_1019    p_1020    p_1021    p_1022    p_1023  activity  \n",
       "0 -0.054865  0.020026  0.164098  0.010093 -0.020967         1  \n",
       "1 -0.066895 -0.001391 -0.001993 -0.033620 -0.014635         1  \n",
       "2 -0.091551 -0.048034  0.058891 -0.024581  0.036298         1  \n",
       "3 -0.037793 -0.049993  0.186102 -0.022121 -0.068235         1  \n",
       "4  0.039168 -0.068407  0.087351 -0.025515  0.073880         0  \n",
       "\n",
       "[5 rows x 1025 columns]"
      ]
     },
     "execution_count": 2,
     "metadata": {},
     "output_type": "execute_result"
    }
   ],
   "source": [
    "df_to_predict = pd.read_csv(\"../results_demo/protrans_uniref/independent_df.csv\")\n",
    "df_to_predict.head(5)"
   ]
  },
  {
   "cell_type": "code",
   "execution_count": 3,
   "metadata": {},
   "outputs": [],
   "source": [
    "df_to_predict_values = df_to_predict.drop(columns=[\"activity\"])\n",
    "real_values_response = df_to_predict[\"activity\"]"
   ]
  },
  {
   "cell_type": "code",
   "execution_count": 5,
   "metadata": {},
   "outputs": [
    {
     "data": {
      "text/plain": [
       "array([1, 1, 1, 1, 0, 1, 0, 1, 1, 1, 1, 1, 1, 1, 1, 0, 1, 1, 0, 1, 1, 0,\n",
       "       1, 1, 1, 0, 1, 1, 1, 1, 1, 1, 1, 1, 0, 0, 1, 0, 1, 1, 1, 1, 1, 1,\n",
       "       1, 0, 1, 0, 1, 0, 1, 1, 0, 0, 0, 1, 1, 0, 1, 1, 0])"
      ]
     },
     "execution_count": 5,
     "metadata": {},
     "output_type": "execute_result"
    }
   ],
   "source": [
    "instance_model = classification_model()\n",
    "response_predictions = instance_model.using_model(trained_model_file=\"../results_demo/trained_model.joblib\", data_to_predict=df_to_predict_values)\n",
    "response_predictions"
   ]
  },
  {
   "cell_type": "code",
   "execution_count": 6,
   "metadata": {},
   "outputs": [
    {
     "data": {
      "text/plain": [
       "['Exploring trained models',\n",
       " 0.819672131147541,\n",
       " 0.811072450619399,\n",
       " 0.844525291487683,\n",
       " 0.819672131147541,\n",
       " 0.6472465764241914]"
      ]
     },
     "execution_count": 6,
     "metadata": {},
     "output_type": "execute_result"
    }
   ],
   "source": [
    "performances = instance_model.get_performances(\n",
    "    description=\"Exploring trained models\",\n",
    "    predict_label=response_predictions,\n",
    "    real_label=real_values_response)\n",
    "performances"
   ]
  }
 ],
 "metadata": {
  "kernelspec": {
   "display_name": "amp_class_models",
   "language": "python",
   "name": "python3"
  },
  "language_info": {
   "codemirror_mode": {
    "name": "ipython",
    "version": 3
   },
   "file_extension": ".py",
   "mimetype": "text/x-python",
   "name": "python",
   "nbconvert_exporter": "python",
   "pygments_lexer": "ipython3",
   "version": "3.9.19"
  },
  "orig_nbformat": 4,
  "vscode": {
   "interpreter": {
    "hash": "7083de4b0402f53e7c3ee94a03dce799a26de2893c2a83f7f50740b3282fcfd1"
   }
  }
 },
 "nbformat": 4,
 "nbformat_minor": 2
}
