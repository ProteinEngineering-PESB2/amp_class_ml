{
 "cells": [
  {
   "attachments": {},
   "cell_type": "markdown",
   "metadata": {},
   "source": [
    "## Training a classification model"
   ]
  },
  {
   "cell_type": "code",
   "execution_count": 1,
   "metadata": {},
   "outputs": [],
   "source": [
    "import pandas as pd\n",
    "import sys\n",
    "sys.path.insert(0, \"../\")\n",
    "\n",
    "from src.training_models.class_models import classification_model"
   ]
  },
  {
   "attachments": {},
   "cell_type": "markdown",
   "metadata": {},
   "source": [
    "### Load generated dataset"
   ]
  },
  {
   "cell_type": "code",
   "execution_count": 2,
   "metadata": {},
   "outputs": [
    {
     "data": {
      "text/html": [
       "<div>\n",
       "<style scoped>\n",
       "    .dataframe tbody tr th:only-of-type {\n",
       "        vertical-align: middle;\n",
       "    }\n",
       "\n",
       "    .dataframe tbody tr th {\n",
       "        vertical-align: top;\n",
       "    }\n",
       "\n",
       "    .dataframe thead th {\n",
       "        text-align: right;\n",
       "    }\n",
       "</style>\n",
       "<table border=\"1\" class=\"dataframe\">\n",
       "  <thead>\n",
       "    <tr style=\"text-align: right;\">\n",
       "      <th></th>\n",
       "      <th>p_0</th>\n",
       "      <th>p_1</th>\n",
       "      <th>p_2</th>\n",
       "      <th>p_3</th>\n",
       "      <th>p_4</th>\n",
       "      <th>p_5</th>\n",
       "      <th>p_6</th>\n",
       "      <th>p_7</th>\n",
       "      <th>p_8</th>\n",
       "      <th>p_9</th>\n",
       "      <th>...</th>\n",
       "      <th>p_1015</th>\n",
       "      <th>p_1016</th>\n",
       "      <th>p_1017</th>\n",
       "      <th>p_1018</th>\n",
       "      <th>p_1019</th>\n",
       "      <th>p_1020</th>\n",
       "      <th>p_1021</th>\n",
       "      <th>p_1022</th>\n",
       "      <th>p_1023</th>\n",
       "      <th>activity</th>\n",
       "    </tr>\n",
       "  </thead>\n",
       "  <tbody>\n",
       "    <tr>\n",
       "      <th>0</th>\n",
       "      <td>0.103233</td>\n",
       "      <td>0.137089</td>\n",
       "      <td>0.007571</td>\n",
       "      <td>0.056822</td>\n",
       "      <td>-0.015115</td>\n",
       "      <td>0.013300</td>\n",
       "      <td>0.003245</td>\n",
       "      <td>-0.029593</td>\n",
       "      <td>-0.050956</td>\n",
       "      <td>0.013364</td>\n",
       "      <td>...</td>\n",
       "      <td>-0.024438</td>\n",
       "      <td>0.140411</td>\n",
       "      <td>-0.120382</td>\n",
       "      <td>0.075022</td>\n",
       "      <td>-0.020910</td>\n",
       "      <td>0.042531</td>\n",
       "      <td>-0.033964</td>\n",
       "      <td>0.005562</td>\n",
       "      <td>0.142219</td>\n",
       "      <td>1</td>\n",
       "    </tr>\n",
       "    <tr>\n",
       "      <th>1</th>\n",
       "      <td>0.212201</td>\n",
       "      <td>-0.090433</td>\n",
       "      <td>-0.159667</td>\n",
       "      <td>-0.135489</td>\n",
       "      <td>0.050239</td>\n",
       "      <td>-0.006389</td>\n",
       "      <td>0.108306</td>\n",
       "      <td>-0.182474</td>\n",
       "      <td>-0.027750</td>\n",
       "      <td>0.007570</td>\n",
       "      <td>...</td>\n",
       "      <td>-0.054471</td>\n",
       "      <td>0.015356</td>\n",
       "      <td>-0.258282</td>\n",
       "      <td>-0.006802</td>\n",
       "      <td>0.016755</td>\n",
       "      <td>-0.073280</td>\n",
       "      <td>0.104178</td>\n",
       "      <td>-0.084475</td>\n",
       "      <td>-0.134824</td>\n",
       "      <td>1</td>\n",
       "    </tr>\n",
       "    <tr>\n",
       "      <th>2</th>\n",
       "      <td>0.094642</td>\n",
       "      <td>-0.077496</td>\n",
       "      <td>0.029943</td>\n",
       "      <td>-0.183214</td>\n",
       "      <td>0.012689</td>\n",
       "      <td>0.005122</td>\n",
       "      <td>0.013026</td>\n",
       "      <td>-0.024426</td>\n",
       "      <td>-0.104882</td>\n",
       "      <td>-0.035467</td>\n",
       "      <td>...</td>\n",
       "      <td>0.010482</td>\n",
       "      <td>0.156957</td>\n",
       "      <td>-0.125741</td>\n",
       "      <td>-0.027085</td>\n",
       "      <td>-0.070208</td>\n",
       "      <td>-0.033267</td>\n",
       "      <td>0.106994</td>\n",
       "      <td>0.023849</td>\n",
       "      <td>0.006742</td>\n",
       "      <td>1</td>\n",
       "    </tr>\n",
       "    <tr>\n",
       "      <th>3</th>\n",
       "      <td>0.087020</td>\n",
       "      <td>-0.033223</td>\n",
       "      <td>-0.131613</td>\n",
       "      <td>-0.002761</td>\n",
       "      <td>0.140324</td>\n",
       "      <td>-0.022511</td>\n",
       "      <td>0.093446</td>\n",
       "      <td>-0.190113</td>\n",
       "      <td>-0.128086</td>\n",
       "      <td>-0.006281</td>\n",
       "      <td>...</td>\n",
       "      <td>-0.012331</td>\n",
       "      <td>0.000451</td>\n",
       "      <td>-0.117705</td>\n",
       "      <td>0.016472</td>\n",
       "      <td>-0.148764</td>\n",
       "      <td>-0.001753</td>\n",
       "      <td>-0.012917</td>\n",
       "      <td>0.105337</td>\n",
       "      <td>0.114754</td>\n",
       "      <td>1</td>\n",
       "    </tr>\n",
       "    <tr>\n",
       "      <th>4</th>\n",
       "      <td>-0.059187</td>\n",
       "      <td>-0.035740</td>\n",
       "      <td>0.032423</td>\n",
       "      <td>-0.007901</td>\n",
       "      <td>0.016538</td>\n",
       "      <td>0.017135</td>\n",
       "      <td>0.043785</td>\n",
       "      <td>-0.194315</td>\n",
       "      <td>0.138979</td>\n",
       "      <td>0.132981</td>\n",
       "      <td>...</td>\n",
       "      <td>-0.122343</td>\n",
       "      <td>-0.017712</td>\n",
       "      <td>-0.099282</td>\n",
       "      <td>-0.058188</td>\n",
       "      <td>0.084988</td>\n",
       "      <td>0.061063</td>\n",
       "      <td>0.027701</td>\n",
       "      <td>-0.003167</td>\n",
       "      <td>0.064699</td>\n",
       "      <td>0</td>\n",
       "    </tr>\n",
       "  </tbody>\n",
       "</table>\n",
       "<p>5 rows × 1025 columns</p>\n",
       "</div>"
      ],
      "text/plain": [
       "        p_0       p_1       p_2       p_3       p_4       p_5       p_6  \\\n",
       "0  0.103233  0.137089  0.007571  0.056822 -0.015115  0.013300  0.003245   \n",
       "1  0.212201 -0.090433 -0.159667 -0.135489  0.050239 -0.006389  0.108306   \n",
       "2  0.094642 -0.077496  0.029943 -0.183214  0.012689  0.005122  0.013026   \n",
       "3  0.087020 -0.033223 -0.131613 -0.002761  0.140324 -0.022511  0.093446   \n",
       "4 -0.059187 -0.035740  0.032423 -0.007901  0.016538  0.017135  0.043785   \n",
       "\n",
       "        p_7       p_8       p_9  ...    p_1015    p_1016    p_1017    p_1018  \\\n",
       "0 -0.029593 -0.050956  0.013364  ... -0.024438  0.140411 -0.120382  0.075022   \n",
       "1 -0.182474 -0.027750  0.007570  ... -0.054471  0.015356 -0.258282 -0.006802   \n",
       "2 -0.024426 -0.104882 -0.035467  ...  0.010482  0.156957 -0.125741 -0.027085   \n",
       "3 -0.190113 -0.128086 -0.006281  ... -0.012331  0.000451 -0.117705  0.016472   \n",
       "4 -0.194315  0.138979  0.132981  ... -0.122343 -0.017712 -0.099282 -0.058188   \n",
       "\n",
       "     p_1019    p_1020    p_1021    p_1022    p_1023  activity  \n",
       "0 -0.020910  0.042531 -0.033964  0.005562  0.142219         1  \n",
       "1  0.016755 -0.073280  0.104178 -0.084475 -0.134824         1  \n",
       "2 -0.070208 -0.033267  0.106994  0.023849  0.006742         1  \n",
       "3 -0.148764 -0.001753 -0.012917  0.105337  0.114754         1  \n",
       "4  0.084988  0.061063  0.027701 -0.003167  0.064699         0  \n",
       "\n",
       "[5 rows x 1025 columns]"
      ]
     },
     "execution_count": 2,
     "metadata": {},
     "output_type": "execute_result"
    }
   ],
   "source": [
    "df_data = pd.read_csv(\"../results_demo/protrans_uniref/df_training.csv\")\n",
    "df_data.head(5)"
   ]
  },
  {
   "attachments": {},
   "cell_type": "markdown",
   "metadata": {},
   "source": [
    "### Training model 1: With a unique dataset"
   ]
  },
  {
   "cell_type": "code",
   "execution_count": 3,
   "metadata": {},
   "outputs": [],
   "source": [
    "model_instance = classification_model(\n",
    "    column_response=\"activity\",\n",
    "    dataset=df_data\n",
    ")"
   ]
  },
  {
   "cell_type": "code",
   "execution_count": 4,
   "metadata": {},
   "outputs": [],
   "source": [
    "model_instance.split_training_validation()"
   ]
  },
  {
   "cell_type": "code",
   "execution_count": 5,
   "metadata": {},
   "outputs": [
    {
     "name": "stdout",
     "output_type": "stream",
     "text": [
      "Train model with cross validation\n",
      "Predict responses and make evaluation\n"
     ]
    },
    {
     "data": {
      "text/plain": [
       "['ExtraTrees',\n",
       " 0.8090909090909091,\n",
       " 0.8053475935828878,\n",
       " 0.8132177033492822,\n",
       " 0.8090909090909091,\n",
       " 0.609216760467608,\n",
       " 0.22920889854431153,\n",
       " 0.017756938934326172,\n",
       " 0.755751880209364,\n",
       " 0.7574973876698015,\n",
       " 0.7691620734281022,\n",
       " 0.7574973876698015]"
      ]
     },
     "execution_count": 5,
     "metadata": {},
     "output_type": "execute_result"
    }
   ],
   "source": [
    "response = model_instance.training_ExtraTree()\n",
    "response"
   ]
  },
  {
   "attachments": {},
   "cell_type": "markdown",
   "metadata": {},
   "source": [
    "### Training mode 2: Training with training dataset and evaluating using independent dataset"
   ]
  },
  {
   "cell_type": "code",
   "execution_count": 6,
   "metadata": {},
   "outputs": [
    {
     "name": "stdout",
     "output_type": "stream",
     "text": [
      "Train model with cross validation\n",
      "Predict responses and make evaluation\n"
     ]
    },
    {
     "data": {
      "text/plain": [
       "['ExtraTrees',\n",
       " 0.819672131147541,\n",
       " 0.811072450619399,\n",
       " 0.844525291487683,\n",
       " 0.819672131147541,\n",
       " 0.6472465764241914,\n",
       " 0.31059536933898924,\n",
       " 0.021330595016479492,\n",
       " 0.7717650547498941,\n",
       " 0.7733444537114262,\n",
       " 0.7821695385641387,\n",
       " 0.7733444537114262]"
      ]
     },
     "execution_count": 6,
     "metadata": {},
     "output_type": "execute_result"
    }
   ],
   "source": [
    "independet_df = pd.read_csv(\"../results_demo/protrans_uniref/independent_df.csv\")\n",
    "\n",
    "model_instance = classification_model(\n",
    "    column_response=\"activity\"\n",
    ")\n",
    "\n",
    "model_instance.define_train_val_data(dataset_train=df_data, dataset_val=independet_df)\n",
    "response = model_instance.training_ExtraTree()\n",
    "response"
   ]
  },
  {
   "attachments": {},
   "cell_type": "markdown",
   "metadata": {},
   "source": [
    "### Exporting the trained model"
   ]
  },
  {
   "cell_type": "code",
   "execution_count": 7,
   "metadata": {},
   "outputs": [],
   "source": [
    "model_instance.exporting_model(name_export=\"../results_demo/trained_model.joblib\")"
   ]
  }
 ],
 "metadata": {
  "kernelspec": {
   "display_name": "amp_class_models",
   "language": "python",
   "name": "python3"
  },
  "language_info": {
   "codemirror_mode": {
    "name": "ipython",
    "version": 3
   },
   "file_extension": ".py",
   "mimetype": "text/x-python",
   "name": "python",
   "nbconvert_exporter": "python",
   "pygments_lexer": "ipython3",
   "version": "3.9.19 (main, Mar 21 2024, 17:11:28) \n[GCC 11.2.0]"
  },
  "orig_nbformat": 4,
  "vscode": {
   "interpreter": {
    "hash": "7083de4b0402f53e7c3ee94a03dce799a26de2893c2a83f7f50740b3282fcfd1"
   }
  }
 },
 "nbformat": 4,
 "nbformat_minor": 2
}
